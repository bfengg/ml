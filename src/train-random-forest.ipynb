{
 "cells": [
  {
   "cell_type": "code",
   "execution_count": 9,
   "metadata": {},
   "outputs": [],
   "source": [
    "import pandas as pd\n",
    "\n",
    "# Import required libraries\n",
    "import pandas as pd\n",
    "from sklearn.model_selection import train_test_split\n",
    "from sklearn.ensemble import RandomForestRegressor\n",
    "from sklearn.metrics import mean_squared_error, r2_score\n",
    "from sklearn.preprocessing import OneHotEncoder\n",
    "from sklearn.compose import ColumnTransformer\n",
    "from sklearn.pipeline import Pipeline\n",
    "\n",
    "from xgboost import XGBRegressor"
   ]
  },
  {
   "cell_type": "code",
   "execution_count": 10,
   "metadata": {},
   "outputs": [
    {
     "data": {
      "text/html": [
       "<div>\n",
       "<style scoped>\n",
       "    .dataframe tbody tr th:only-of-type {\n",
       "        vertical-align: middle;\n",
       "    }\n",
       "\n",
       "    .dataframe tbody tr th {\n",
       "        vertical-align: top;\n",
       "    }\n",
       "\n",
       "    .dataframe thead th {\n",
       "        text-align: right;\n",
       "    }\n",
       "</style>\n",
       "<table border=\"1\" class=\"dataframe\">\n",
       "  <thead>\n",
       "    <tr style=\"text-align: right;\">\n",
       "      <th></th>\n",
       "      <th>business_unit</th>\n",
       "      <th>team</th>\n",
       "      <th>env</th>\n",
       "      <th>one_month_avg</th>\n",
       "      <th>six_month_avg</th>\n",
       "      <th>ec2_percentage</th>\n",
       "      <th>fargate_percentage</th>\n",
       "      <th>lambda_percentage</th>\n",
       "      <th>utilization_rate</th>\n",
       "      <th>deployment_frequency</th>\n",
       "      <th>seasonality</th>\n",
       "      <th>one_month_cv</th>\n",
       "      <th>six_month_cv</th>\n",
       "      <th>actual_compute_spend</th>\n",
       "    </tr>\n",
       "  </thead>\n",
       "  <tbody>\n",
       "    <tr>\n",
       "      <th>0</th>\n",
       "      <td>r&amp;d</td>\n",
       "      <td>credit</td>\n",
       "      <td>dev</td>\n",
       "      <td>79198.910935</td>\n",
       "      <td>93740.482814</td>\n",
       "      <td>12.597932</td>\n",
       "      <td>52.886931</td>\n",
       "      <td>27.447453</td>\n",
       "      <td>97.704696</td>\n",
       "      <td>high</td>\n",
       "      <td>high</td>\n",
       "      <td>0.026532</td>\n",
       "      <td>0.007770</td>\n",
       "      <td>148002.388651</td>\n",
       "    </tr>\n",
       "    <tr>\n",
       "      <th>1</th>\n",
       "      <td>infrastructure</td>\n",
       "      <td>credit</td>\n",
       "      <td>dev</td>\n",
       "      <td>96025.020234</td>\n",
       "      <td>80529.238336</td>\n",
       "      <td>15.646884</td>\n",
       "      <td>28.200641</td>\n",
       "      <td>8.212892</td>\n",
       "      <td>88.758046</td>\n",
       "      <td>medium</td>\n",
       "      <td>medium</td>\n",
       "      <td>0.019080</td>\n",
       "      <td>0.046369</td>\n",
       "      <td>132627.627250</td>\n",
       "    </tr>\n",
       "    <tr>\n",
       "      <th>2</th>\n",
       "      <td>r&amp;d</td>\n",
       "      <td>ops</td>\n",
       "      <td>test</td>\n",
       "      <td>36234.909406</td>\n",
       "      <td>43096.520964</td>\n",
       "      <td>57.064379</td>\n",
       "      <td>43.021597</td>\n",
       "      <td>5.653959</td>\n",
       "      <td>90.181757</td>\n",
       "      <td>medium</td>\n",
       "      <td>high</td>\n",
       "      <td>0.175329</td>\n",
       "      <td>0.032533</td>\n",
       "      <td>98034.920370</td>\n",
       "    </tr>\n",
       "    <tr>\n",
       "      <th>3</th>\n",
       "      <td>r&amp;d</td>\n",
       "      <td>research</td>\n",
       "      <td>dev</td>\n",
       "      <td>65243.997194</td>\n",
       "      <td>37829.868698</td>\n",
       "      <td>58.242699</td>\n",
       "      <td>54.655612</td>\n",
       "      <td>22.208269</td>\n",
       "      <td>76.580037</td>\n",
       "      <td>very high</td>\n",
       "      <td>medium</td>\n",
       "      <td>0.087324</td>\n",
       "      <td>0.132608</td>\n",
       "      <td>84746.110658</td>\n",
       "    </tr>\n",
       "    <tr>\n",
       "      <th>4</th>\n",
       "      <td>infrastructure</td>\n",
       "      <td>debit</td>\n",
       "      <td>staging</td>\n",
       "      <td>98371.737203</td>\n",
       "      <td>73817.304604</td>\n",
       "      <td>33.902858</td>\n",
       "      <td>51.773622</td>\n",
       "      <td>20.103266</td>\n",
       "      <td>59.339040</td>\n",
       "      <td>very high</td>\n",
       "      <td>medium</td>\n",
       "      <td>0.041143</td>\n",
       "      <td>0.052347</td>\n",
       "      <td>109308.378705</td>\n",
       "    </tr>\n",
       "  </tbody>\n",
       "</table>\n",
       "</div>"
      ],
      "text/plain": [
       "    business_unit      team      env  one_month_avg  six_month_avg  \\\n",
       "0             r&d    credit      dev   79198.910935   93740.482814   \n",
       "1  infrastructure    credit      dev   96025.020234   80529.238336   \n",
       "2             r&d       ops     test   36234.909406   43096.520964   \n",
       "3             r&d  research      dev   65243.997194   37829.868698   \n",
       "4  infrastructure     debit  staging   98371.737203   73817.304604   \n",
       "\n",
       "   ec2_percentage  fargate_percentage  lambda_percentage  utilization_rate  \\\n",
       "0       12.597932           52.886931          27.447453         97.704696   \n",
       "1       15.646884           28.200641           8.212892         88.758046   \n",
       "2       57.064379           43.021597           5.653959         90.181757   \n",
       "3       58.242699           54.655612          22.208269         76.580037   \n",
       "4       33.902858           51.773622          20.103266         59.339040   \n",
       "\n",
       "  deployment_frequency seasonality  one_month_cv  six_month_cv  \\\n",
       "0                 high        high      0.026532      0.007770   \n",
       "1               medium      medium      0.019080      0.046369   \n",
       "2               medium        high      0.175329      0.032533   \n",
       "3            very high      medium      0.087324      0.132608   \n",
       "4            very high      medium      0.041143      0.052347   \n",
       "\n",
       "   actual_compute_spend  \n",
       "0         148002.388651  \n",
       "1         132627.627250  \n",
       "2          98034.920370  \n",
       "3          84746.110658  \n",
       "4         109308.378705  "
      ]
     },
     "execution_count": 10,
     "metadata": {},
     "output_type": "execute_result"
    }
   ],
   "source": [
    "df = pd.read_csv('../data/synthetic_compute_spend.csv')\n",
    "df.head(5)"
   ]
  },
  {
   "cell_type": "code",
   "execution_count": 11,
   "metadata": {},
   "outputs": [
    {
     "data": {
      "text/plain": [
       "102981.84002650956"
      ]
     },
     "execution_count": 11,
     "metadata": {},
     "output_type": "execute_result"
    }
   ],
   "source": [
    "df['actual_compute_spend'].mean()"
   ]
  },
  {
   "cell_type": "code",
   "execution_count": 12,
   "metadata": {},
   "outputs": [
    {
     "name": "stdout",
     "output_type": "stream",
     "text": [
      "Mean Squared Error: 11060872.323436493\n",
      "R^2 Score: 0.9839642739742567\n"
     ]
    }
   ],
   "source": [
    "# Define the features and target\n",
    "X = df.drop('actual_compute_spend', axis=1)\n",
    "y = df['actual_compute_spend']\n",
    "\n",
    "# Define categorical and numeric features\n",
    "categorical_features = ['business_unit', 'team', 'env', 'deployment_frequency', 'seasonality']\n",
    "numeric_features = ['one_month_avg', 'six_month_avg', 'ec2_percentage', 'fargate_percentage', 'lambda_percentage', 'utilization_rate', 'one_month_cv', 'six_month_cv']\n",
    "\n",
    "# Preprocessor for handling categorical and numeric data\n",
    "preprocessor = ColumnTransformer(\n",
    "    transformers=[\n",
    "        ('num', 'passthrough', numeric_features),\n",
    "        ('cat', OneHotEncoder(handle_unknown='ignore'), categorical_features)\n",
    "    ])\n",
    "\n",
    "# Create a pipeline with XGBoost\n",
    "model = Pipeline(steps=[\n",
    "    ('preprocessor', preprocessor),\n",
    "    ('regressor', XGBRegressor(n_estimators=100, random_state=42))\n",
    "])\n",
    "\n",
    "# Split the data into training and test sets\n",
    "X_train, X_test, y_train, y_test = train_test_split(X, y, test_size=0.2, random_state=42)\n",
    "\n",
    "# Train the model\n",
    "model.fit(X_train, y_train)\n",
    "\n",
    "# Make predictions on test data\n",
    "y_pred = model.predict(X_test)\n",
    "\n",
    "# Evaluate the model\n",
    "mse = mean_squared_error(y_test, y_pred)\n",
    "r2 = r2_score(y_test, y_pred)\n",
    "\n",
    "print(f\"Mean Squared Error: {mse}\")\n",
    "print(f\"R^2 Score: {r2}\")\n"
   ]
  },
  {
   "cell_type": "code",
   "execution_count": 13,
   "metadata": {},
   "outputs": [
    {
     "name": "stdout",
     "output_type": "stream",
     "text": [
      "   Actual Compute Spend  Predicted Compute Spend\n",
      "0                 40000             87731.695312\n",
      "1                 41000             90148.890625\n",
      "2                270000            132238.046875\n",
      "3                200000            130687.617188\n",
      "4                210000            132551.312500\n",
      "5                 60000            115568.148438\n",
      "6                 70000            130807.140625\n"
     ]
    }
   ],
   "source": [
    "df_sample = pd.read_csv('../data/sample_infrastructure_data.csv')\n",
    "\n",
    "X_sample = df_sample.drop('actual_compute_spend', axis=1)\n",
    "\n",
    "# Make predictions using the trained model\n",
    "y_pred_sample = model.predict(X_sample)\n",
    "\n",
    "# Display predictions\n",
    "predictions = pd.DataFrame({\n",
    "    'Actual Compute Spend': df_sample['actual_compute_spend'],\n",
    "    'Predicted Compute Spend': y_pred_sample\n",
    "})\n",
    "\n",
    "print(predictions)\n"
   ]
  },
  {
   "cell_type": "code",
   "execution_count": 14,
   "metadata": {},
   "outputs": [
    {
     "name": "stdout",
     "output_type": "stream",
     "text": [
      "                                Feature  Importance\n",
      "1                    num__six_month_avg    0.881625\n",
      "5                 num__utilization_rate    0.078688\n",
      "21        cat__deployment_frequency_low    0.006324\n",
      "16                         cat__env_dev    0.003788\n",
      "10               cat__business_unit_r&d    0.002309\n",
      "11                     cat__team_credit    0.002287\n",
      "17                        cat__env_prod    0.002005\n",
      "24                cat__seasonality_high    0.001964\n",
      "15                   cat__team_research    0.001517\n",
      "22     cat__deployment_frequency_medium    0.001488\n",
      "7                     num__six_month_cv    0.001445\n",
      "20       cat__deployment_frequency_high    0.001430\n",
      "19                        cat__env_test    0.001416\n",
      "13                       cat__team_main    0.001370\n",
      "2                   num__ec2_percentage    0.001368\n",
      "12                      cat__team_debit    0.001242\n",
      "4                num__lambda_percentage    0.001222\n",
      "3               num__fargate_percentage    0.001124\n",
      "26              cat__seasonality_medium    0.001068\n",
      "6                     num__one_month_cv    0.000996\n",
      "14                        cat__team_ops    0.000975\n",
      "8        cat__business_unit_application    0.000968\n",
      "23  cat__deployment_frequency_very high    0.000868\n",
      "0                    num__one_month_avg    0.000816\n",
      "25                 cat__seasonality_low    0.000768\n",
      "9     cat__business_unit_infrastructure    0.000553\n",
      "18                     cat__env_staging    0.000375\n"
     ]
    }
   ],
   "source": [
    "feature_names = model.named_steps['preprocessor'].get_feature_names_out()\n",
    "importances = model.named_steps['regressor'].feature_importances_\n",
    "feature_importance_df = pd.DataFrame({'Feature': feature_names, 'Importance': importances})\n",
    "feature_importance_df.sort_values(by='Importance', ascending=False, inplace=True)\n",
    "print(feature_importance_df)\n"
   ]
  },
  {
   "cell_type": "code",
   "execution_count": 15,
   "metadata": {},
   "outputs": [
    {
     "data": {
      "image/png": "[encoded data removed]",
      "text/plain": [
       "<Figure size 640x480 with 1 Axes>"
      ]
     },
     "metadata": {},
     "output_type": "display_data"
    }
   ],
   "source": [
    "import matplotlib.pyplot as plt\n",
    "residuals = y_test - y_pred\n",
    "plt.scatter(y_pred, residuals)\n",
    "plt.xlabel('Predicted Values')\n",
    "plt.ylabel('Residuals')\n",
    "plt.title('Residual Plot')\n",
    "plt.show()\n"
   ]
  },
  {
   "cell_type": "code",
   "execution_count": 16,
   "metadata": {},
   "outputs": [
    {
     "name": "stdout",
     "output_type": "stream",
     "text": [
      "Feature: business_unit\n",
      "Categories: ['application' 'infrastructure' 'r&d']\n",
      "\n",
      "\n",
      "Feature: team\n",
      "Categories: ['credit' 'debit' 'main' 'ops' 'research']\n",
      "\n",
      "\n",
      "Feature: env\n",
      "Categories: ['dev' 'prod' 'staging' 'test']\n",
      "\n",
      "\n",
      "Feature: deployment_frequency\n",
      "Categories: ['high' 'low' 'medium' 'very high']\n",
      "\n",
      "\n",
      "Feature: seasonality\n",
      "Categories: ['high' 'low' 'medium']\n",
      "\n",
      "\n"
     ]
    }
   ],
   "source": [
    "# Access the OneHotEncoder within the pipeline's ColumnTransformer\n",
    "encoder = model.named_steps['preprocessor'].named_transformers_['cat']\n",
    "\n",
    "# Get the categories learned by the OneHotEncoder\n",
    "categories = encoder.categories_\n",
    "\n",
    "# Print the categories for each categorical feature\n",
    "for feature, cats in zip(categorical_features, categories):\n",
    "    print(f\"Feature: {feature}\")\n",
    "    print(f\"Categories: {cats}\")\n",
    "    print(\"\\n\")\n"
   ]
  },
  {
   "cell_type": "code",
   "execution_count": null,
   "metadata": {},
   "outputs": [],
   "source": []
  }
 ],
 "metadata": {
  "kernelspec": {
   "display_name": "Python 3",
   "language": "python",
   "name": "python3"
  },
  "language_info": {
   "codemirror_mode": {
    "name": "ipython",
    "version": 3
   },
   "file_extension": ".py",
   "mimetype": "text/x-python",
   "name": "python",
   "nbconvert_exporter": "python",
   "pygments_lexer": "ipython3",
   "version": "3.11.9"
  }
 },
 "nbformat": 4,
 "nbformat_minor": 2
}
